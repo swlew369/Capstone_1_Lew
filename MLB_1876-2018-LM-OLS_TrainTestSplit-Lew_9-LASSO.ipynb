{
 "cells": [
  {
   "cell_type": "code",
   "execution_count": 1,
   "metadata": {
    "collapsed": true
   },
   "outputs": [],
   "source": [
    "import pandas as pd\n",
    "import numpy as np\n",
    "import seaborn as sns\n",
    "import matplotlib.pyplot as plt\n",
    "import pickle\n",
    "import datetime\n",
    "import requests\n",
    "import statsmodels.api as sm\n",
    "from sklearn.model_selection import train_test_split\n",
    "from sklearn.linear_model import LinearRegression\n",
    "from sklearn.linear_model import RidgeCV, LassoCV, Ridge, Lasso\n",
    "from sklearn.ensemble import GradientBoostingRegressor\n",
    "from sklearn.ensemble import RandomForestRegressor\n",
    "from sklearn.ensemble import RandomForestClassifier\n",
    "from sklearn.preprocessing import StandardScaler\n",
    "from sklearn.model_selection import cross_val_score\n",
    "from sklearn.metrics import mean_squared_error\n",
    "from itertools import combinations\n",
    "from collections import OrderedDict \n",
    "\n",
    "%matplotlib inline"
   ]
  },
  {
   "cell_type": "markdown",
   "metadata": {},
   "source": [
    "## READ IN MLB STATS FOR 1876-2018 SEASONS "
   ]
  },
  {
   "cell_type": "markdown",
   "metadata": {},
   "source": [
    "## Note: No salary data is used for regression in this case."
   ]
  },
  {
   "cell_type": "code",
   "execution_count": 2,
   "metadata": {
    "collapsed": true
   },
   "outputs": [],
   "source": [
    "# read data from csv file for 2001-2018 MLB seasons\n",
    "#df = pd.read_csv('MLB_STATS_1900-2018_BP.csv')\n",
    "df = pd.read_csv('MLB_STATS_1876-2018_BP.csv')\n",
    "#df = pd.read_csv('MLB_KBO_STATS_1876-2018_BP.csv') # korean baseball stats 2008-2018"
   ]
  },
  {
   "cell_type": "code",
   "execution_count": 3,
   "metadata": {},
   "outputs": [
    {
     "data": {
      "text/html": [
       "<div>\n",
       "<style scoped>\n",
       "    .dataframe tbody tr th:only-of-type {\n",
       "        vertical-align: middle;\n",
       "    }\n",
       "\n",
       "    .dataframe tbody tr th {\n",
       "        vertical-align: top;\n",
       "    }\n",
       "\n",
       "    .dataframe thead th {\n",
       "        text-align: right;\n",
       "    }\n",
       "</style>\n",
       "<table border=\"1\" class=\"dataframe\">\n",
       "  <thead>\n",
       "    <tr style=\"text-align: right;\">\n",
       "      <th></th>\n",
       "      <th>Tm</th>\n",
       "      <th>#Bat</th>\n",
       "      <th>BatAge</th>\n",
       "      <th>R/G</th>\n",
       "      <th>G_x</th>\n",
       "      <th>PA</th>\n",
       "      <th>AB</th>\n",
       "      <th>R_x</th>\n",
       "      <th>H_x</th>\n",
       "      <th>2B</th>\n",
       "      <th>...</th>\n",
       "      <th>SO_y</th>\n",
       "      <th>SO/W</th>\n",
       "      <th>SO9</th>\n",
       "      <th>SV</th>\n",
       "      <th>W</th>\n",
       "      <th>W-L%</th>\n",
       "      <th>WHIP</th>\n",
       "      <th>WP</th>\n",
       "      <th>cSho</th>\n",
       "      <th>tSho</th>\n",
       "    </tr>\n",
       "  </thead>\n",
       "  <tbody>\n",
       "    <tr>\n",
       "      <th>0</th>\n",
       "      <td>ATH</td>\n",
       "      <td>21</td>\n",
       "      <td>26.0</td>\n",
       "      <td>6.30</td>\n",
       "      <td>60</td>\n",
       "      <td>2414</td>\n",
       "      <td>2387</td>\n",
       "      <td>378</td>\n",
       "      <td>646</td>\n",
       "      <td>79</td>\n",
       "      <td>...</td>\n",
       "      <td>22</td>\n",
       "      <td>0.54</td>\n",
       "      <td>0.4</td>\n",
       "      <td>2</td>\n",
       "      <td>14</td>\n",
       "      <td>0.237</td>\n",
       "      <td>1.498</td>\n",
       "      <td>33</td>\n",
       "      <td>1.0</td>\n",
       "      <td>1.0</td>\n",
       "    </tr>\n",
       "    <tr>\n",
       "      <th>1</th>\n",
       "      <td>BSN</td>\n",
       "      <td>17</td>\n",
       "      <td>24.7</td>\n",
       "      <td>6.73</td>\n",
       "      <td>70</td>\n",
       "      <td>2780</td>\n",
       "      <td>2722</td>\n",
       "      <td>471</td>\n",
       "      <td>723</td>\n",
       "      <td>96</td>\n",
       "      <td>...</td>\n",
       "      <td>77</td>\n",
       "      <td>0.74</td>\n",
       "      <td>1.1</td>\n",
       "      <td>7</td>\n",
       "      <td>39</td>\n",
       "      <td>0.557</td>\n",
       "      <td>1.323</td>\n",
       "      <td>46</td>\n",
       "      <td>3.0</td>\n",
       "      <td>3.0</td>\n",
       "    </tr>\n",
       "    <tr>\n",
       "      <th>2</th>\n",
       "      <td>CHC</td>\n",
       "      <td>11</td>\n",
       "      <td>25.9</td>\n",
       "      <td>9.45</td>\n",
       "      <td>66</td>\n",
       "      <td>2818</td>\n",
       "      <td>2748</td>\n",
       "      <td>624</td>\n",
       "      <td>926</td>\n",
       "      <td>131</td>\n",
       "      <td>...</td>\n",
       "      <td>51</td>\n",
       "      <td>1.76</td>\n",
       "      <td>0.8</td>\n",
       "      <td>4</td>\n",
       "      <td>52</td>\n",
       "      <td>0.788</td>\n",
       "      <td>1.075</td>\n",
       "      <td>3</td>\n",
       "      <td>8.0</td>\n",
       "      <td>9.0</td>\n",
       "    </tr>\n",
       "    <tr>\n",
       "      <th>3</th>\n",
       "      <td>CIN</td>\n",
       "      <td>13</td>\n",
       "      <td>24.5</td>\n",
       "      <td>3.66</td>\n",
       "      <td>65</td>\n",
       "      <td>2413</td>\n",
       "      <td>2372</td>\n",
       "      <td>238</td>\n",
       "      <td>555</td>\n",
       "      <td>51</td>\n",
       "      <td>...</td>\n",
       "      <td>60</td>\n",
       "      <td>1.76</td>\n",
       "      <td>0.9</td>\n",
       "      <td>0</td>\n",
       "      <td>9</td>\n",
       "      <td>0.138</td>\n",
       "      <td>1.496</td>\n",
       "      <td>28</td>\n",
       "      <td>0.0</td>\n",
       "      <td>0.0</td>\n",
       "    </tr>\n",
       "    <tr>\n",
       "      <th>4</th>\n",
       "      <td>HAR</td>\n",
       "      <td>12</td>\n",
       "      <td>26.3</td>\n",
       "      <td>6.22</td>\n",
       "      <td>69</td>\n",
       "      <td>2703</td>\n",
       "      <td>2664</td>\n",
       "      <td>429</td>\n",
       "      <td>711</td>\n",
       "      <td>96</td>\n",
       "      <td>...</td>\n",
       "      <td>114</td>\n",
       "      <td>4.22</td>\n",
       "      <td>1.6</td>\n",
       "      <td>0</td>\n",
       "      <td>47</td>\n",
       "      <td>0.691</td>\n",
       "      <td>0.957</td>\n",
       "      <td>15</td>\n",
       "      <td>11.0</td>\n",
       "      <td>11.0</td>\n",
       "    </tr>\n",
       "  </tbody>\n",
       "</table>\n",
       "<p>5 rows × 65 columns</p>\n",
       "</div>"
      ],
      "text/plain": [
       "    Tm  #Bat  BatAge   R/G  G_x    PA    AB  R_x  H_x   2B  ...  SO_y  SO/W  \\\n",
       "0  ATH    21    26.0  6.30   60  2414  2387  378  646   79  ...    22  0.54   \n",
       "1  BSN    17    24.7  6.73   70  2780  2722  471  723   96  ...    77  0.74   \n",
       "2  CHC    11    25.9  9.45   66  2818  2748  624  926  131  ...    51  1.76   \n",
       "3  CIN    13    24.5  3.66   65  2413  2372  238  555   51  ...    60  1.76   \n",
       "4  HAR    12    26.3  6.22   69  2703  2664  429  711   96  ...   114  4.22   \n",
       "\n",
       "   SO9  SV   W   W-L%   WHIP  WP  cSho  tSho  \n",
       "0  0.4   2  14  0.237  1.498  33   1.0   1.0  \n",
       "1  1.1   7  39  0.557  1.323  46   3.0   3.0  \n",
       "2  0.8   4  52  0.788  1.075   3   8.0   9.0  \n",
       "3  0.9   0   9  0.138  1.496  28   0.0   0.0  \n",
       "4  1.6   0  47  0.691  0.957  15  11.0  11.0  \n",
       "\n",
       "[5 rows x 65 columns]"
      ]
     },
     "execution_count": 3,
     "metadata": {},
     "output_type": "execute_result"
    }
   ],
   "source": [
    "df.head()"
   ]
  },
  {
   "cell_type": "code",
   "execution_count": 4,
   "metadata": {},
   "outputs": [
    {
     "data": {
      "text/plain": [
       "(2815, 65)"
      ]
     },
     "execution_count": 4,
     "metadata": {},
     "output_type": "execute_result"
    }
   ],
   "source": [
    "df.shape"
   ]
  },
  {
   "cell_type": "code",
   "execution_count": 5,
   "metadata": {},
   "outputs": [
    {
     "data": {
      "text/html": [
       "<div>\n",
       "<style scoped>\n",
       "    .dataframe tbody tr th:only-of-type {\n",
       "        vertical-align: middle;\n",
       "    }\n",
       "\n",
       "    .dataframe tbody tr th {\n",
       "        vertical-align: top;\n",
       "    }\n",
       "\n",
       "    .dataframe thead th {\n",
       "        text-align: right;\n",
       "    }\n",
       "</style>\n",
       "<table border=\"1\" class=\"dataframe\">\n",
       "  <thead>\n",
       "    <tr style=\"text-align: right;\">\n",
       "      <th></th>\n",
       "      <th>Tm</th>\n",
       "      <th>#Bat</th>\n",
       "      <th>BatAge</th>\n",
       "      <th>R/G</th>\n",
       "      <th>G_x</th>\n",
       "      <th>PA</th>\n",
       "      <th>AB</th>\n",
       "      <th>R_x</th>\n",
       "      <th>H_x</th>\n",
       "      <th>2B</th>\n",
       "      <th>...</th>\n",
       "      <th>SO_y</th>\n",
       "      <th>SO/W</th>\n",
       "      <th>SO9</th>\n",
       "      <th>SV</th>\n",
       "      <th>W</th>\n",
       "      <th>W-L%</th>\n",
       "      <th>WHIP</th>\n",
       "      <th>WP</th>\n",
       "      <th>cSho</th>\n",
       "      <th>tSho</th>\n",
       "    </tr>\n",
       "  </thead>\n",
       "  <tbody>\n",
       "    <tr>\n",
       "      <th>2810</th>\n",
       "      <td>STL</td>\n",
       "      <td>49</td>\n",
       "      <td>28.0</td>\n",
       "      <td>4.69</td>\n",
       "      <td>162</td>\n",
       "      <td>6200</td>\n",
       "      <td>5498</td>\n",
       "      <td>759</td>\n",
       "      <td>1369</td>\n",
       "      <td>248</td>\n",
       "      <td>...</td>\n",
       "      <td>1337</td>\n",
       "      <td>2.25</td>\n",
       "      <td>8.3</td>\n",
       "      <td>43</td>\n",
       "      <td>88</td>\n",
       "      <td>0.543</td>\n",
       "      <td>1.338</td>\n",
       "      <td>63</td>\n",
       "      <td>1.0</td>\n",
       "      <td>8.0</td>\n",
       "    </tr>\n",
       "    <tr>\n",
       "      <th>2811</th>\n",
       "      <td>TBR</td>\n",
       "      <td>54</td>\n",
       "      <td>27.1</td>\n",
       "      <td>4.42</td>\n",
       "      <td>162</td>\n",
       "      <td>6195</td>\n",
       "      <td>5475</td>\n",
       "      <td>716</td>\n",
       "      <td>1415</td>\n",
       "      <td>274</td>\n",
       "      <td>...</td>\n",
       "      <td>1421</td>\n",
       "      <td>2.84</td>\n",
       "      <td>8.8</td>\n",
       "      <td>52</td>\n",
       "      <td>90</td>\n",
       "      <td>0.556</td>\n",
       "      <td>1.199</td>\n",
       "      <td>55</td>\n",
       "      <td>0.0</td>\n",
       "      <td>14.0</td>\n",
       "    </tr>\n",
       "    <tr>\n",
       "      <th>2812</th>\n",
       "      <td>TEX</td>\n",
       "      <td>50</td>\n",
       "      <td>27.4</td>\n",
       "      <td>4.55</td>\n",
       "      <td>162</td>\n",
       "      <td>6163</td>\n",
       "      <td>5453</td>\n",
       "      <td>737</td>\n",
       "      <td>1308</td>\n",
       "      <td>266</td>\n",
       "      <td>...</td>\n",
       "      <td>1121</td>\n",
       "      <td>2.28</td>\n",
       "      <td>7.1</td>\n",
       "      <td>42</td>\n",
       "      <td>67</td>\n",
       "      <td>0.414</td>\n",
       "      <td>1.403</td>\n",
       "      <td>57</td>\n",
       "      <td>0.0</td>\n",
       "      <td>5.0</td>\n",
       "    </tr>\n",
       "    <tr>\n",
       "      <th>2813</th>\n",
       "      <td>TOR</td>\n",
       "      <td>63</td>\n",
       "      <td>28.9</td>\n",
       "      <td>4.38</td>\n",
       "      <td>162</td>\n",
       "      <td>6076</td>\n",
       "      <td>5477</td>\n",
       "      <td>709</td>\n",
       "      <td>1336</td>\n",
       "      <td>320</td>\n",
       "      <td>...</td>\n",
       "      <td>1298</td>\n",
       "      <td>2.36</td>\n",
       "      <td>8.1</td>\n",
       "      <td>39</td>\n",
       "      <td>73</td>\n",
       "      <td>0.451</td>\n",
       "      <td>1.414</td>\n",
       "      <td>71</td>\n",
       "      <td>0.0</td>\n",
       "      <td>3.0</td>\n",
       "    </tr>\n",
       "    <tr>\n",
       "      <th>2814</th>\n",
       "      <td>WSN</td>\n",
       "      <td>53</td>\n",
       "      <td>27.6</td>\n",
       "      <td>4.76</td>\n",
       "      <td>162</td>\n",
       "      <td>6288</td>\n",
       "      <td>5517</td>\n",
       "      <td>771</td>\n",
       "      <td>1402</td>\n",
       "      <td>284</td>\n",
       "      <td>...</td>\n",
       "      <td>1417</td>\n",
       "      <td>2.91</td>\n",
       "      <td>8.8</td>\n",
       "      <td>40</td>\n",
       "      <td>82</td>\n",
       "      <td>0.506</td>\n",
       "      <td>1.250</td>\n",
       "      <td>42</td>\n",
       "      <td>1.0</td>\n",
       "      <td>7.0</td>\n",
       "    </tr>\n",
       "  </tbody>\n",
       "</table>\n",
       "<p>5 rows × 65 columns</p>\n",
       "</div>"
      ],
      "text/plain": [
       "       Tm  #Bat  BatAge   R/G  G_x    PA    AB  R_x   H_x   2B  ...  SO_y  \\\n",
       "2810  STL    49    28.0  4.69  162  6200  5498  759  1369  248  ...  1337   \n",
       "2811  TBR    54    27.1  4.42  162  6195  5475  716  1415  274  ...  1421   \n",
       "2812  TEX    50    27.4  4.55  162  6163  5453  737  1308  266  ...  1121   \n",
       "2813  TOR    63    28.9  4.38  162  6076  5477  709  1336  320  ...  1298   \n",
       "2814  WSN    53    27.6  4.76  162  6288  5517  771  1402  284  ...  1417   \n",
       "\n",
       "      SO/W  SO9  SV   W   W-L%   WHIP  WP  cSho  tSho  \n",
       "2810  2.25  8.3  43  88  0.543  1.338  63   1.0   8.0  \n",
       "2811  2.84  8.8  52  90  0.556  1.199  55   0.0  14.0  \n",
       "2812  2.28  7.1  42  67  0.414  1.403  57   0.0   5.0  \n",
       "2813  2.36  8.1  39  73  0.451  1.414  71   0.0   3.0  \n",
       "2814  2.91  8.8  40  82  0.506  1.250  42   1.0   7.0  \n",
       "\n",
       "[5 rows x 65 columns]"
      ]
     },
     "execution_count": 5,
     "metadata": {},
     "output_type": "execute_result"
    }
   ],
   "source": [
    "df.tail()"
   ]
  },
  {
   "cell_type": "code",
   "execution_count": 6,
   "metadata": {},
   "outputs": [
    {
     "data": {
      "text/plain": [
       "Tm         object\n",
       "#Bat        int64\n",
       "BatAge    float64\n",
       "R/G       float64\n",
       "G_x         int64\n",
       "           ...   \n",
       "W-L%      float64\n",
       "WHIP      float64\n",
       "WP          int64\n",
       "cSho      float64\n",
       "tSho      float64\n",
       "Length: 65, dtype: object"
      ]
     },
     "execution_count": 6,
     "metadata": {},
     "output_type": "execute_result"
    }
   ],
   "source": [
    "df.dtypes"
   ]
  },
  {
   "cell_type": "code",
   "execution_count": 7,
   "metadata": {},
   "outputs": [
    {
     "data": {
      "text/plain": [
       "Index(['Tm', '#Bat', 'BatAge', 'R/G', 'G_x', 'PA', 'AB', 'R_x', 'H_x', '2B',\n",
       "       '3B', 'HR_x', 'RBI', 'SB', 'CS', 'BB_x', 'SO_x', 'BA', 'OBP', 'SLG',\n",
       "       'OPS', 'OPS+', 'TB', 'GDP', 'HBP_x', 'SH', 'SF', 'IBB_x', 'LOB_x',\n",
       "       'Year', '#P', 'BB_y', 'BB9', 'BF', 'BK', 'CG', 'ER', 'ERA', 'ERA+',\n",
       "       'FIP', 'G_y', 'GF', 'GS', 'H_y', 'H9', 'HBP_y', 'HR_y', 'HR9', 'IBB_y',\n",
       "       'IP', 'L', 'LOB_y', 'PAge', 'R_y', 'RA/G', 'SO_y', 'SO/W', 'SO9', 'SV',\n",
       "       'W', 'W-L%', 'WHIP', 'WP', 'cSho', 'tSho'],\n",
       "      dtype='object')"
      ]
     },
     "execution_count": 7,
     "metadata": {},
     "output_type": "execute_result"
    }
   ],
   "source": [
    "df.columns"
   ]
  },
  {
   "cell_type": "code",
   "execution_count": 8,
   "metadata": {},
   "outputs": [
    {
     "data": {
      "text/plain": [
       "1884    33\n",
       "2017    30\n",
       "2015    30\n",
       "1998    30\n",
       "2002    30\n",
       "        ..\n",
       "1879     8\n",
       "1880     8\n",
       "1876     8\n",
       "1877     6\n",
       "1878     6\n",
       "Name: Year, Length: 142, dtype: int64"
      ]
     },
     "execution_count": 8,
     "metadata": {},
     "output_type": "execute_result"
    }
   ],
   "source": [
    "df.Year.value_counts()"
   ]
  },
  {
   "cell_type": "code",
   "execution_count": 9,
   "metadata": {
    "collapsed": true
   },
   "outputs": [],
   "source": [
    "correlation = df.corr()"
   ]
  },
  {
   "cell_type": "code",
   "execution_count": 10,
   "metadata": {},
   "outputs": [
    {
     "data": {
      "text/plain": [
       "#Bat      0.178940\n",
       "BatAge    0.352487\n",
       "R/G       0.224332\n",
       "G_x       0.582830\n",
       "PA        0.629993\n",
       "            ...   \n",
       "W-L%      0.819723\n",
       "WHIP     -0.336374\n",
       "WP       -0.107353\n",
       "cSho      0.272929\n",
       "tSho      0.508369\n",
       "Name: W, Length: 64, dtype: float64"
      ]
     },
     "execution_count": 10,
     "metadata": {},
     "output_type": "execute_result"
    }
   ],
   "source": [
    "W_corr = correlation.W\n",
    "W_corr"
   ]
  },
  {
   "cell_type": "code",
   "execution_count": 11,
   "metadata": {},
   "outputs": [
    {
     "data": {
      "text/plain": [
       "Tm        0\n",
       "#Bat      0\n",
       "BatAge    0\n",
       "R/G       0\n",
       "G_x       0\n",
       "         ..\n",
       "W-L%      0\n",
       "WHIP      0\n",
       "WP        0\n",
       "cSho      8\n",
       "tSho      8\n",
       "Length: 65, dtype: int64"
      ]
     },
     "execution_count": 11,
     "metadata": {},
     "output_type": "execute_result"
    }
   ],
   "source": [
    "#df.SV.isna().sum()\n",
    "df.isnull().sum()"
   ]
  },
  {
   "cell_type": "code",
   "execution_count": 12,
   "metadata": {},
   "outputs": [
    {
     "data": {
      "text/plain": [
       "Tm        False\n",
       "#Bat      False\n",
       "BatAge    False\n",
       "R/G       False\n",
       "G_x       False\n",
       "          ...  \n",
       "W-L%      False\n",
       "WHIP      False\n",
       "WP        False\n",
       "cSho       True\n",
       "tSho       True\n",
       "Length: 65, dtype: bool"
      ]
     },
     "execution_count": 12,
     "metadata": {},
     "output_type": "execute_result"
    }
   ],
   "source": [
    "my_nulls = df.isnull().any()\n",
    "my_nulls"
   ]
  },
  {
   "cell_type": "code",
   "execution_count": 13,
   "metadata": {},
   "outputs": [
    {
     "data": {
      "text/plain": [
       "Index(['Tm', '#Bat', 'BatAge', 'R/G', 'G_x', 'PA', 'AB', 'R_x', 'H_x', '2B',\n",
       "       '3B', 'HR_x', 'RBI', 'SB', 'CS', 'BB_x', 'SO_x', 'BA', 'OBP', 'SLG',\n",
       "       'OPS', 'OPS+', 'TB', 'GDP', 'HBP_x', 'SH', 'SF', 'IBB_x', 'LOB_x',\n",
       "       'Year', '#P', 'BB_y', 'BB9', 'BF', 'BK', 'CG', 'ER', 'ERA', 'ERA+',\n",
       "       'FIP', 'G_y', 'GF', 'GS', 'H_y', 'H9', 'HBP_y', 'HR_y', 'HR9', 'IBB_y',\n",
       "       'IP', 'L', 'LOB_y', 'PAge', 'R_y', 'RA/G', 'SO_y', 'SO/W', 'SO9', 'SV',\n",
       "       'W', 'W-L%', 'WHIP', 'WP', 'cSho', 'tSho'],\n",
       "      dtype='object')"
      ]
     },
     "execution_count": 13,
     "metadata": {},
     "output_type": "execute_result"
    }
   ],
   "source": [
    "df.columns"
   ]
  },
  {
   "cell_type": "code",
   "execution_count": 14,
   "metadata": {},
   "outputs": [
    {
     "data": {
      "text/plain": [
       "Index(['Tm', '#Bat', 'BatAge', 'R/G', 'G_x', 'PA', 'AB', 'R_x', 'H_x', '2B',\n",
       "       '3B', 'HR_x', 'RBI', 'SB', 'CS', 'BB_x', 'SO_x', 'BA', 'OBP', 'SLG',\n",
       "       'OPS', 'OPS+', 'TB', 'GDP', 'HBP_x', 'SH', 'SF', 'IBB_x', 'LOB_x',\n",
       "       'Year', '#P', 'BB_y', 'BB9', 'BF', 'BK', 'CG', 'ER', 'ERA', 'ERA+',\n",
       "       'FIP', 'G_y', 'GF', 'GS', 'H_y', 'H9', 'HBP_y', 'HR_y', 'HR9', 'IBB_y',\n",
       "       'IP', 'L', 'LOB_y', 'PAge', 'R_y', 'RA/G', 'SO_y', 'SO/W', 'SO9', 'SV',\n",
       "       'W', 'W-L%', 'WHIP', 'WP', 'cSho', 'tSho'],\n",
       "      dtype='object')"
      ]
     },
     "execution_count": 14,
     "metadata": {},
     "output_type": "execute_result"
    }
   ],
   "source": [
    "df.columns"
   ]
  },
  {
   "cell_type": "code",
   "execution_count": 15,
   "metadata": {},
   "outputs": [
    {
     "data": {
      "text/plain": [
       "(2815, 65)"
      ]
     },
     "execution_count": 15,
     "metadata": {},
     "output_type": "execute_result"
    }
   ],
   "source": [
    "# No need to drop rows win Nan values if you choose your predictors carefully!\n",
    "#df = df.dropna()\n",
    "df.shape"
   ]
  },
  {
   "cell_type": "code",
   "execution_count": 16,
   "metadata": {},
   "outputs": [
    {
     "data": {
      "text/plain": [
       "count    2815.000000\n",
       "mean       75.858970\n",
       "std        16.007805\n",
       "min         2.000000\n",
       "25%        67.000000\n",
       "50%        77.000000\n",
       "75%        87.000000\n",
       "max       116.000000\n",
       "Name: W, dtype: float64"
      ]
     },
     "execution_count": 16,
     "metadata": {},
     "output_type": "execute_result"
    }
   ],
   "source": [
    "df.W.describe()"
   ]
  },
  {
   "cell_type": "markdown",
   "metadata": {},
   "source": [
    "## Optimized Set Of Predictors Based On R Step Backwards Feature Selection"
   ]
  },
  {
   "cell_type": "code",
   "execution_count": 17,
   "metadata": {},
   "outputs": [
    {
     "name": "stdout",
     "output_type": "stream",
     "text": [
      "33\n"
     ]
    }
   ],
   "source": [
    "preds = ['G_x', 'PA', 'R_x', 'H_x', '2B',\n",
    "               '3B', 'HR_x', 'SB', 'OBP', 'OPS','SH', 'SF', 'IBB_x', 'LOB_x',\n",
    "               'BB_y', 'BF', 'BK', 'CG','GF', 'H_y', 'H9', 'HR_y', 'IBB_y',\n",
    "               'IP', 'LOB_y', 'RA/G', 'SO_y', 'SO9', 'SV',\n",
    "               'WHIP', 'WP', 'cSho', 'tSho']\n",
    "\n",
    "print(len(preds))"
   ]
  },
  {
   "cell_type": "code",
   "execution_count": 18,
   "metadata": {},
   "outputs": [
    {
     "data": {
      "text/plain": [
       "(1618, 65)"
      ]
     },
     "execution_count": 18,
     "metadata": {},
     "output_type": "execute_result"
    }
   ],
   "source": [
    "df_fil = df.dropna()\n",
    "df_fil.shape"
   ]
  },
  {
   "cell_type": "code",
   "execution_count": 19,
   "metadata": {},
   "outputs": [
    {
     "name": "stdout",
     "output_type": "stream",
     "text": [
      "(1294, 33) (1294,)\n",
      "(324, 33) (324,)\n"
     ]
    }
   ],
   "source": [
    "# create training and testing data\n",
    "y = df_fil.W\n",
    "X = df_fil[preds]\n",
    "X_train, X_test, y_train, y_test = train_test_split(X, y, test_size=0.2,random_state =42)\n",
    "print(X_train.shape, y_train.shape)\n",
    "print(X_test.shape, y_test.shape)"
   ]
  },
  {
   "cell_type": "markdown",
   "metadata": {},
   "source": [
    "## OLS Model with 33 features"
   ]
  },
  {
   "cell_type": "code",
   "execution_count": 20,
   "metadata": {
    "collapsed": true
   },
   "outputs": [],
   "source": [
    "# fit a model\n",
    "lm_op = LinearRegression()\n",
    "model_op = lm_op.fit(X_train, y_train)\n",
    "predictions = lm_op.predict(X_test)"
   ]
  },
  {
   "cell_type": "code",
   "execution_count": 21,
   "metadata": {},
   "outputs": [
    {
     "name": "stdout",
     "output_type": "stream",
     "text": [
      "The Trainng Score For Model:\n",
      "0.97648089836\n",
      "\n",
      "The Test Score For Model :\n",
      "0.976502399831\n",
      "\n"
     ]
    }
   ],
   "source": [
    "print(\"The Trainng Score For Model:\")\n",
    "print(model_op.score(X_train,y_train))\n",
    "print()\n",
    "print(\"The Test Score For Model :\")\n",
    "print(model_op.score(X_test,y_test))\n",
    "print()"
   ]
  },
  {
   "cell_type": "code",
   "execution_count": 22,
   "metadata": {},
   "outputs": [
    {
     "name": "stdout",
     "output_type": "stream",
     "text": [
      "For Linear Regression Model With 33 Regressor-Predictors:\n",
      "Root Mean Squared Error Train(RMSE) for training data: 1.9097134537195484\n",
      "\n",
      "Root Mean Squared Error(RMSE) for test data: 1.904363397097704\n",
      "\n"
     ]
    }
   ],
   "source": [
    "pred_tr = model_op.predict(X_train)\n",
    "rmse_train = np.sqrt(mean_squared_error(y_train,pred_tr))\n",
    "print('For Linear Regression Model With '+ str(len(preds)) +' Regressor-Predictors:')\n",
    "print(\"Root Mean Squared Error Train(RMSE) for training data: {}\".format(rmse_train))\n",
    "\n",
    "print()\n",
    "rmse_test = np.sqrt(mean_squared_error(y_test,predictions))\n",
    "print(\"Root Mean Squared Error(RMSE) for test data: {}\".format(rmse_test))\n",
    "\n",
    "print()"
   ]
  },
  {
   "cell_type": "code",
   "execution_count": 23,
   "metadata": {},
   "outputs": [
    {
     "name": "stdout",
     "output_type": "stream",
     "text": [
      "('G_x', -1.3850002215176427)\n",
      "\n",
      "('PA', -0.2635458880947788)\n",
      "\n",
      "('R_x', 0.28863132471876368)\n",
      "\n",
      "('H_x', -0.024519722599795835)\n",
      "\n",
      "('2B', -0.045999196374585744)\n",
      "\n",
      "('3B', -0.094289520069022026)\n",
      "\n",
      "('HR_x', -0.12240205208738039)\n",
      "\n",
      "('SB', 0.0032089802977201898)\n",
      "\n",
      "('OBP', -304.44676783697668)\n",
      "\n",
      "('OPS', 226.42592798273262)\n",
      "\n",
      "('SH', -0.010897619229607787)\n",
      "\n",
      "('SF', -0.022106258723458141)\n",
      "\n",
      "('IBB_x', 0.0079846711329483282)\n",
      "\n",
      "('LOB_x', 0.27474669255477868)\n",
      "\n",
      "('BB_y', -0.040670797439243934)\n",
      "\n",
      "('BF', 0.058028361300296316)\n",
      "\n",
      "('BK', -0.013449261232557089)\n",
      "\n",
      "('CG', 1.5572707098801533)\n",
      "\n",
      "('GF', 1.5323951027959226)\n",
      "\n",
      "('H_y', -0.019172676978202321)\n",
      "\n",
      "('H9', -3.5447551328087679)\n",
      "\n",
      "('HR_y', -0.0072375497436878971)\n",
      "\n",
      "('IBB_y', -0.0047867927090218887)\n",
      "\n",
      "('IP', 0.67922505794814925)\n",
      "\n",
      "('LOB_y', -0.061066188825543058)\n",
      "\n",
      "('RA/G', -10.800999615487362)\n",
      "\n",
      "('SO_y', 0.015001906253662602)\n",
      "\n",
      "('SO9', -2.2555344792256737)\n",
      "\n",
      "('SV', 0.066848670201793636)\n",
      "\n",
      "('WHIP', 57.867042480206358)\n",
      "\n",
      "('WP', -0.0086290022269243354)\n",
      "\n",
      "('cSho', -0.05126002771731912)\n",
      "\n",
      "('tSho', 0.10397868369086481)\n",
      "\n"
     ]
    }
   ],
   "source": [
    "for item in zip(preds,model_op.coef_):\n",
    "    print(item)\n",
    "    print()"
   ]
  },
  {
   "cell_type": "code",
   "execution_count": 24,
   "metadata": {
    "collapsed": true
   },
   "outputs": [],
   "source": [
    "################################################################################################################"
   ]
  },
  {
   "cell_type": "markdown",
   "metadata": {
    "collapsed": true
   },
   "source": [
    "## LASSO with 33 Predictors/Regressors"
   ]
  },
  {
   "cell_type": "markdown",
   "metadata": {},
   "source": [
    "## This is an attept to determine which regressors are most important for predicting wins using the LASSO method."
   ]
  },
  {
   "cell_type": "code",
   "execution_count": 25,
   "metadata": {},
   "outputs": [
    {
     "name": "stderr",
     "output_type": "stream",
     "text": [
      "/Users/scottlew/miniconda3/lib/python3.6/site-packages/sklearn/model_selection/_split.py:1978: FutureWarning: The default value of cv will change from 3 to 5 in version 0.22. Specify it explicitly to silence this warning.\n",
      "  warnings.warn(CV_WARNING, FutureWarning)\n",
      "/Users/scottlew/miniconda3/lib/python3.6/site-packages/sklearn/linear_model/coordinate_descent.py:471: ConvergenceWarning: Objective did not converge. You might want to increase the number of iterations. Duality gap: 205.11650939626998, tolerance: 13.046297099767983\n",
      "  tol, rng, random, positive)\n",
      "/Users/scottlew/miniconda3/lib/python3.6/site-packages/sklearn/linear_model/coordinate_descent.py:471: ConvergenceWarning: Objective did not converge. You might want to increase the number of iterations. Duality gap: 429.3471861492544, tolerance: 13.046297099767983\n",
      "  tol, rng, random, positive)\n",
      "/Users/scottlew/miniconda3/lib/python3.6/site-packages/sklearn/linear_model/coordinate_descent.py:471: ConvergenceWarning: Objective did not converge. You might want to increase the number of iterations. Duality gap: 491.96745237387404, tolerance: 13.046297099767983\n",
      "  tol, rng, random, positive)\n",
      "/Users/scottlew/miniconda3/lib/python3.6/site-packages/sklearn/linear_model/coordinate_descent.py:471: ConvergenceWarning: Objective did not converge. You might want to increase the number of iterations. Duality gap: 506.8655037465451, tolerance: 13.046297099767983\n",
      "  tol, rng, random, positive)\n",
      "/Users/scottlew/miniconda3/lib/python3.6/site-packages/sklearn/linear_model/coordinate_descent.py:471: ConvergenceWarning: Objective did not converge. You might want to increase the number of iterations. Duality gap: 506.252500974786, tolerance: 13.046297099767983\n",
      "  tol, rng, random, positive)\n",
      "/Users/scottlew/miniconda3/lib/python3.6/site-packages/sklearn/linear_model/coordinate_descent.py:471: ConvergenceWarning: Objective did not converge. You might want to increase the number of iterations. Duality gap: 499.28849305206495, tolerance: 13.046297099767983\n",
      "  tol, rng, random, positive)\n",
      "/Users/scottlew/miniconda3/lib/python3.6/site-packages/sklearn/linear_model/coordinate_descent.py:471: ConvergenceWarning: Objective did not converge. You might want to increase the number of iterations. Duality gap: 488.8956000397593, tolerance: 13.046297099767983\n",
      "  tol, rng, random, positive)\n",
      "/Users/scottlew/miniconda3/lib/python3.6/site-packages/sklearn/linear_model/coordinate_descent.py:471: ConvergenceWarning: Objective did not converge. You might want to increase the number of iterations. Duality gap: 475.02836435854715, tolerance: 13.046297099767983\n",
      "  tol, rng, random, positive)\n",
      "/Users/scottlew/miniconda3/lib/python3.6/site-packages/sklearn/linear_model/coordinate_descent.py:471: ConvergenceWarning: Objective did not converge. You might want to increase the number of iterations. Duality gap: 465.21940965070917, tolerance: 13.046297099767983\n",
      "  tol, rng, random, positive)\n",
      "/Users/scottlew/miniconda3/lib/python3.6/site-packages/sklearn/linear_model/coordinate_descent.py:471: ConvergenceWarning: Objective did not converge. You might want to increase the number of iterations. Duality gap: 450.48178660596113, tolerance: 13.046297099767983\n",
      "  tol, rng, random, positive)\n",
      "/Users/scottlew/miniconda3/lib/python3.6/site-packages/sklearn/linear_model/coordinate_descent.py:471: ConvergenceWarning: Objective did not converge. You might want to increase the number of iterations. Duality gap: 433.94928697181786, tolerance: 13.046297099767983\n",
      "  tol, rng, random, positive)\n",
      "/Users/scottlew/miniconda3/lib/python3.6/site-packages/sklearn/linear_model/coordinate_descent.py:471: ConvergenceWarning: Objective did not converge. You might want to increase the number of iterations. Duality gap: 416.6986387794659, tolerance: 13.046297099767983\n",
      "  tol, rng, random, positive)\n",
      "/Users/scottlew/miniconda3/lib/python3.6/site-packages/sklearn/linear_model/coordinate_descent.py:471: ConvergenceWarning: Objective did not converge. You might want to increase the number of iterations. Duality gap: 399.159733169583, tolerance: 13.046297099767983\n",
      "  tol, rng, random, positive)\n",
      "/Users/scottlew/miniconda3/lib/python3.6/site-packages/sklearn/linear_model/coordinate_descent.py:471: ConvergenceWarning: Objective did not converge. You might want to increase the number of iterations. Duality gap: 382.3400971859919, tolerance: 13.046297099767983\n",
      "  tol, rng, random, positive)\n",
      "/Users/scottlew/miniconda3/lib/python3.6/site-packages/sklearn/linear_model/coordinate_descent.py:471: ConvergenceWarning: Objective did not converge. You might want to increase the number of iterations. Duality gap: 359.206479405304, tolerance: 13.046297099767983\n",
      "  tol, rng, random, positive)\n",
      "/Users/scottlew/miniconda3/lib/python3.6/site-packages/sklearn/linear_model/coordinate_descent.py:471: ConvergenceWarning: Objective did not converge. You might want to increase the number of iterations. Duality gap: 340.2419059478598, tolerance: 13.046297099767983\n",
      "  tol, rng, random, positive)\n",
      "/Users/scottlew/miniconda3/lib/python3.6/site-packages/sklearn/linear_model/coordinate_descent.py:471: ConvergenceWarning: Objective did not converge. You might want to increase the number of iterations. Duality gap: 323.46493989005785, tolerance: 13.046297099767983\n",
      "  tol, rng, random, positive)\n",
      "/Users/scottlew/miniconda3/lib/python3.6/site-packages/sklearn/linear_model/coordinate_descent.py:471: ConvergenceWarning: Objective did not converge. You might want to increase the number of iterations. Duality gap: 307.7588480935415, tolerance: 13.046297099767983\n",
      "  tol, rng, random, positive)\n",
      "/Users/scottlew/miniconda3/lib/python3.6/site-packages/sklearn/linear_model/coordinate_descent.py:471: ConvergenceWarning: Objective did not converge. You might want to increase the number of iterations. Duality gap: 293.07355597685273, tolerance: 13.046297099767983\n",
      "  tol, rng, random, positive)\n",
      "/Users/scottlew/miniconda3/lib/python3.6/site-packages/sklearn/linear_model/coordinate_descent.py:471: ConvergenceWarning: Objective did not converge. You might want to increase the number of iterations. Duality gap: 278.1420283761936, tolerance: 13.046297099767983\n",
      "  tol, rng, random, positive)\n",
      "/Users/scottlew/miniconda3/lib/python3.6/site-packages/sklearn/linear_model/coordinate_descent.py:471: ConvergenceWarning: Objective did not converge. You might want to increase the number of iterations. Duality gap: 27.099648232240725, tolerance: 13.688057937427578\n",
      "  tol, rng, random, positive)\n",
      "/Users/scottlew/miniconda3/lib/python3.6/site-packages/sklearn/linear_model/coordinate_descent.py:471: ConvergenceWarning: Objective did not converge. You might want to increase the number of iterations. Duality gap: 28.61389092988975, tolerance: 13.688057937427578\n",
      "  tol, rng, random, positive)\n",
      "/Users/scottlew/miniconda3/lib/python3.6/site-packages/sklearn/linear_model/coordinate_descent.py:471: ConvergenceWarning: Objective did not converge. You might want to increase the number of iterations. Duality gap: 27.48318674585971, tolerance: 13.688057937427578\n",
      "  tol, rng, random, positive)\n",
      "/Users/scottlew/miniconda3/lib/python3.6/site-packages/sklearn/linear_model/coordinate_descent.py:471: ConvergenceWarning: Objective did not converge. You might want to increase the number of iterations. Duality gap: 27.105532155510446, tolerance: 13.688057937427578\n",
      "  tol, rng, random, positive)\n",
      "/Users/scottlew/miniconda3/lib/python3.6/site-packages/sklearn/linear_model/coordinate_descent.py:471: ConvergenceWarning: Objective did not converge. You might want to increase the number of iterations. Duality gap: 22.919059725991247, tolerance: 13.688057937427578\n",
      "  tol, rng, random, positive)\n",
      "/Users/scottlew/miniconda3/lib/python3.6/site-packages/sklearn/linear_model/coordinate_descent.py:471: ConvergenceWarning: Objective did not converge. You might want to increase the number of iterations. Duality gap: 22.162992806079274, tolerance: 13.688057937427578\n",
      "  tol, rng, random, positive)\n",
      "/Users/scottlew/miniconda3/lib/python3.6/site-packages/sklearn/linear_model/coordinate_descent.py:471: ConvergenceWarning: Objective did not converge. You might want to increase the number of iterations. Duality gap: 21.489312113964843, tolerance: 13.688057937427578\n",
      "  tol, rng, random, positive)\n",
      "/Users/scottlew/miniconda3/lib/python3.6/site-packages/sklearn/linear_model/coordinate_descent.py:471: ConvergenceWarning: Objective did not converge. You might want to increase the number of iterations. Duality gap: 20.777956771258687, tolerance: 13.688057937427578\n",
      "  tol, rng, random, positive)\n",
      "/Users/scottlew/miniconda3/lib/python3.6/site-packages/sklearn/linear_model/coordinate_descent.py:471: ConvergenceWarning: Objective did not converge. You might want to increase the number of iterations. Duality gap: 20.017040521091985, tolerance: 13.688057937427578\n",
      "  tol, rng, random, positive)\n",
      "/Users/scottlew/miniconda3/lib/python3.6/site-packages/sklearn/linear_model/coordinate_descent.py:471: ConvergenceWarning: Objective did not converge. You might want to increase the number of iterations. Duality gap: 132.8069649072204, tolerance: 13.688057937427578\n",
      "  tol, rng, random, positive)\n",
      "/Users/scottlew/miniconda3/lib/python3.6/site-packages/sklearn/linear_model/coordinate_descent.py:471: ConvergenceWarning: Objective did not converge. You might want to increase the number of iterations. Duality gap: 636.3959748432026, tolerance: 13.688057937427578\n",
      "  tol, rng, random, positive)\n",
      "/Users/scottlew/miniconda3/lib/python3.6/site-packages/sklearn/linear_model/coordinate_descent.py:471: ConvergenceWarning: Objective did not converge. You might want to increase the number of iterations. Duality gap: 849.7434131223399, tolerance: 13.688057937427578\n",
      "  tol, rng, random, positive)\n",
      "/Users/scottlew/miniconda3/lib/python3.6/site-packages/sklearn/linear_model/coordinate_descent.py:471: ConvergenceWarning: Objective did not converge. You might want to increase the number of iterations. Duality gap: 909.8509208004234, tolerance: 13.688057937427578\n",
      "  tol, rng, random, positive)\n",
      "/Users/scottlew/miniconda3/lib/python3.6/site-packages/sklearn/linear_model/coordinate_descent.py:471: ConvergenceWarning: Objective did not converge. You might want to increase the number of iterations. Duality gap: 920.2680290335265, tolerance: 13.688057937427578\n",
      "  tol, rng, random, positive)\n",
      "/Users/scottlew/miniconda3/lib/python3.6/site-packages/sklearn/linear_model/coordinate_descent.py:471: ConvergenceWarning: Objective did not converge. You might want to increase the number of iterations. Duality gap: 913.9655657891053, tolerance: 13.688057937427578\n",
      "  tol, rng, random, positive)\n",
      "/Users/scottlew/miniconda3/lib/python3.6/site-packages/sklearn/linear_model/coordinate_descent.py:471: ConvergenceWarning: Objective did not converge. You might want to increase the number of iterations. Duality gap: 898.5149702745748, tolerance: 13.688057937427578\n",
      "  tol, rng, random, positive)\n",
      "/Users/scottlew/miniconda3/lib/python3.6/site-packages/sklearn/linear_model/coordinate_descent.py:471: ConvergenceWarning: Objective did not converge. You might want to increase the number of iterations. Duality gap: 876.7235042249822, tolerance: 13.688057937427578\n",
      "  tol, rng, random, positive)\n",
      "/Users/scottlew/miniconda3/lib/python3.6/site-packages/sklearn/linear_model/coordinate_descent.py:471: ConvergenceWarning: Objective did not converge. You might want to increase the number of iterations. Duality gap: 854.8028878106597, tolerance: 13.688057937427578\n",
      "  tol, rng, random, positive)\n",
      "/Users/scottlew/miniconda3/lib/python3.6/site-packages/sklearn/linear_model/coordinate_descent.py:471: ConvergenceWarning: Objective did not converge. You might want to increase the number of iterations. Duality gap: 831.2726363875063, tolerance: 13.688057937427578\n",
      "  tol, rng, random, positive)\n",
      "/Users/scottlew/miniconda3/lib/python3.6/site-packages/sklearn/linear_model/coordinate_descent.py:471: ConvergenceWarning: Objective did not converge. You might want to increase the number of iterations. Duality gap: 804.137127873315, tolerance: 13.688057937427578\n",
      "  tol, rng, random, positive)\n",
      "/Users/scottlew/miniconda3/lib/python3.6/site-packages/sklearn/linear_model/coordinate_descent.py:471: ConvergenceWarning: Objective did not converge. You might want to increase the number of iterations. Duality gap: 775.4139605340533, tolerance: 13.688057937427578\n",
      "  tol, rng, random, positive)\n",
      "/Users/scottlew/miniconda3/lib/python3.6/site-packages/sklearn/linear_model/coordinate_descent.py:471: ConvergenceWarning: Objective did not converge. You might want to increase the number of iterations. Duality gap: 745.1544100313313, tolerance: 13.688057937427578\n",
      "  tol, rng, random, positive)\n",
      "/Users/scottlew/miniconda3/lib/python3.6/site-packages/sklearn/linear_model/coordinate_descent.py:471: ConvergenceWarning: Objective did not converge. You might want to increase the number of iterations. Duality gap: 714.2453572253953, tolerance: 13.688057937427578\n",
      "  tol, rng, random, positive)\n",
      "/Users/scottlew/miniconda3/lib/python3.6/site-packages/sklearn/linear_model/coordinate_descent.py:471: ConvergenceWarning: Objective did not converge. You might want to increase the number of iterations. Duality gap: 683.2818926928694, tolerance: 13.688057937427578\n",
      "  tol, rng, random, positive)\n",
      "/Users/scottlew/miniconda3/lib/python3.6/site-packages/sklearn/linear_model/coordinate_descent.py:471: ConvergenceWarning: Objective did not converge. You might want to increase the number of iterations. Duality gap: 652.6945147838651, tolerance: 13.688057937427578\n",
      "  tol, rng, random, positive)\n",
      "/Users/scottlew/miniconda3/lib/python3.6/site-packages/sklearn/linear_model/coordinate_descent.py:471: ConvergenceWarning: Objective did not converge. You might want to increase the number of iterations. Duality gap: 620.3205740087215, tolerance: 13.688057937427578\n",
      "  tol, rng, random, positive)\n",
      "/Users/scottlew/miniconda3/lib/python3.6/site-packages/sklearn/linear_model/coordinate_descent.py:471: ConvergenceWarning: Objective did not converge. You might want to increase the number of iterations. Duality gap: 584.6907388937625, tolerance: 13.688057937427578\n",
      "  tol, rng, random, positive)\n",
      "/Users/scottlew/miniconda3/lib/python3.6/site-packages/sklearn/linear_model/coordinate_descent.py:471: ConvergenceWarning: Objective did not converge. You might want to increase the number of iterations. Duality gap: 554.0738380940297, tolerance: 13.688057937427578\n",
      "  tol, rng, random, positive)\n",
      "/Users/scottlew/miniconda3/lib/python3.6/site-packages/sklearn/linear_model/coordinate_descent.py:471: ConvergenceWarning: Objective did not converge. You might want to increase the number of iterations. Duality gap: 528.1136267810989, tolerance: 13.688057937427578\n",
      "  tol, rng, random, positive)\n",
      "/Users/scottlew/miniconda3/lib/python3.6/site-packages/sklearn/linear_model/coordinate_descent.py:471: ConvergenceWarning: Objective did not converge. You might want to increase the number of iterations. Duality gap: 42.68164039968178, tolerance: 13.335652607184242\n",
      "  tol, rng, random, positive)\n",
      "/Users/scottlew/miniconda3/lib/python3.6/site-packages/sklearn/linear_model/coordinate_descent.py:471: ConvergenceWarning: Objective did not converge. You might want to increase the number of iterations. Duality gap: 43.67067410878917, tolerance: 13.335652607184242\n",
      "  tol, rng, random, positive)\n",
      "/Users/scottlew/miniconda3/lib/python3.6/site-packages/sklearn/linear_model/coordinate_descent.py:471: ConvergenceWarning: Objective did not converge. You might want to increase the number of iterations. Duality gap: 42.87972214333604, tolerance: 13.335652607184242\n",
      "  tol, rng, random, positive)\n",
      "/Users/scottlew/miniconda3/lib/python3.6/site-packages/sklearn/linear_model/coordinate_descent.py:471: ConvergenceWarning: Objective did not converge. You might want to increase the number of iterations. Duality gap: 41.79960282987304, tolerance: 13.335652607184242\n",
      "  tol, rng, random, positive)\n",
      "/Users/scottlew/miniconda3/lib/python3.6/site-packages/sklearn/linear_model/coordinate_descent.py:471: ConvergenceWarning: Objective did not converge. You might want to increase the number of iterations. Duality gap: 39.71507913987807, tolerance: 13.335652607184242\n",
      "  tol, rng, random, positive)\n",
      "/Users/scottlew/miniconda3/lib/python3.6/site-packages/sklearn/linear_model/coordinate_descent.py:471: ConvergenceWarning: Objective did not converge. You might want to increase the number of iterations. Duality gap: 38.126680063234744, tolerance: 13.335652607184242\n",
      "  tol, rng, random, positive)\n",
      "/Users/scottlew/miniconda3/lib/python3.6/site-packages/sklearn/linear_model/coordinate_descent.py:471: ConvergenceWarning: Objective did not converge. You might want to increase the number of iterations. Duality gap: 36.8456197903306, tolerance: 13.335652607184242\n",
      "  tol, rng, random, positive)\n",
      "/Users/scottlew/miniconda3/lib/python3.6/site-packages/sklearn/linear_model/coordinate_descent.py:471: ConvergenceWarning: Objective did not converge. You might want to increase the number of iterations. Duality gap: 35.49749436234197, tolerance: 13.335652607184242\n",
      "  tol, rng, random, positive)\n",
      "/Users/scottlew/miniconda3/lib/python3.6/site-packages/sklearn/linear_model/coordinate_descent.py:471: ConvergenceWarning: Objective did not converge. You might want to increase the number of iterations. Duality gap: 79.10792411942748, tolerance: 13.335652607184242\n",
      "  tol, rng, random, positive)\n",
      "/Users/scottlew/miniconda3/lib/python3.6/site-packages/sklearn/linear_model/coordinate_descent.py:471: ConvergenceWarning: Objective did not converge. You might want to increase the number of iterations. Duality gap: 687.9214444631834, tolerance: 13.335652607184242\n",
      "  tol, rng, random, positive)\n",
      "/Users/scottlew/miniconda3/lib/python3.6/site-packages/sklearn/linear_model/coordinate_descent.py:471: ConvergenceWarning: Objective did not converge. You might want to increase the number of iterations. Duality gap: 963.8765095960462, tolerance: 13.335652607184242\n",
      "  tol, rng, random, positive)\n",
      "/Users/scottlew/miniconda3/lib/python3.6/site-packages/sklearn/linear_model/coordinate_descent.py:471: ConvergenceWarning: Objective did not converge. You might want to increase the number of iterations. Duality gap: 1086.113595424038, tolerance: 13.335652607184242\n",
      "  tol, rng, random, positive)\n",
      "/Users/scottlew/miniconda3/lib/python3.6/site-packages/sklearn/linear_model/coordinate_descent.py:471: ConvergenceWarning: Objective did not converge. You might want to increase the number of iterations. Duality gap: 1134.000705516266, tolerance: 13.335652607184242\n",
      "  tol, rng, random, positive)\n",
      "/Users/scottlew/miniconda3/lib/python3.6/site-packages/sklearn/linear_model/coordinate_descent.py:471: ConvergenceWarning: Objective did not converge. You might want to increase the number of iterations. Duality gap: 1126.694908583413, tolerance: 13.335652607184242\n",
      "  tol, rng, random, positive)\n",
      "/Users/scottlew/miniconda3/lib/python3.6/site-packages/sklearn/linear_model/coordinate_descent.py:471: ConvergenceWarning: Objective did not converge. You might want to increase the number of iterations. Duality gap: 1108.1043005788424, tolerance: 13.335652607184242\n",
      "  tol, rng, random, positive)\n",
      "/Users/scottlew/miniconda3/lib/python3.6/site-packages/sklearn/linear_model/coordinate_descent.py:471: ConvergenceWarning: Objective did not converge. You might want to increase the number of iterations. Duality gap: 1082.5216161690469, tolerance: 13.335652607184242\n",
      "  tol, rng, random, positive)\n",
      "/Users/scottlew/miniconda3/lib/python3.6/site-packages/sklearn/linear_model/coordinate_descent.py:471: ConvergenceWarning: Objective did not converge. You might want to increase the number of iterations. Duality gap: 1052.3126916694337, tolerance: 13.335652607184242\n",
      "  tol, rng, random, positive)\n",
      "/Users/scottlew/miniconda3/lib/python3.6/site-packages/sklearn/linear_model/coordinate_descent.py:471: ConvergenceWarning: Objective did not converge. You might want to increase the number of iterations. Duality gap: 1018.9742482630354, tolerance: 13.335652607184242\n",
      "  tol, rng, random, positive)\n",
      "/Users/scottlew/miniconda3/lib/python3.6/site-packages/sklearn/linear_model/coordinate_descent.py:471: ConvergenceWarning: Objective did not converge. You might want to increase the number of iterations. Duality gap: 983.5479855268568, tolerance: 13.335652607184242\n",
      "  tol, rng, random, positive)\n",
      "/Users/scottlew/miniconda3/lib/python3.6/site-packages/sklearn/linear_model/coordinate_descent.py:471: ConvergenceWarning: Objective did not converge. You might want to increase the number of iterations. Duality gap: 946.8089869620262, tolerance: 13.335652607184242\n",
      "  tol, rng, random, positive)\n",
      "/Users/scottlew/miniconda3/lib/python3.6/site-packages/sklearn/linear_model/coordinate_descent.py:471: ConvergenceWarning: Objective did not converge. You might want to increase the number of iterations. Duality gap: 909.9700466877775, tolerance: 13.335652607184242\n",
      "  tol, rng, random, positive)\n",
      "/Users/scottlew/miniconda3/lib/python3.6/site-packages/sklearn/linear_model/coordinate_descent.py:471: ConvergenceWarning: Objective did not converge. You might want to increase the number of iterations. Duality gap: 872.1441807516912, tolerance: 13.335652607184242\n",
      "  tol, rng, random, positive)\n",
      "/Users/scottlew/miniconda3/lib/python3.6/site-packages/sklearn/linear_model/coordinate_descent.py:471: ConvergenceWarning: Objective did not converge. You might want to increase the number of iterations. Duality gap: 834.4616282843572, tolerance: 13.335652607184242\n",
      "  tol, rng, random, positive)\n",
      "/Users/scottlew/miniconda3/lib/python3.6/site-packages/sklearn/linear_model/coordinate_descent.py:471: ConvergenceWarning: Objective did not converge. You might want to increase the number of iterations. Duality gap: 797.3780323960473, tolerance: 13.335652607184242\n",
      "  tol, rng, random, positive)\n",
      "/Users/scottlew/miniconda3/lib/python3.6/site-packages/sklearn/linear_model/coordinate_descent.py:471: ConvergenceWarning: Objective did not converge. You might want to increase the number of iterations. Duality gap: 761.0478420293484, tolerance: 13.335652607184242\n",
      "  tol, rng, random, positive)\n",
      "/Users/scottlew/miniconda3/lib/python3.6/site-packages/sklearn/linear_model/coordinate_descent.py:471: ConvergenceWarning: Objective did not converge. You might want to increase the number of iterations. Duality gap: 727.5755808075628, tolerance: 13.335652607184242\n",
      "  tol, rng, random, positive)\n",
      "/Users/scottlew/miniconda3/lib/python3.6/site-packages/sklearn/linear_model/coordinate_descent.py:471: ConvergenceWarning: Objective did not converge. You might want to increase the number of iterations. Duality gap: 698.4975892922853, tolerance: 13.335652607184242\n",
      "  tol, rng, random, positive)\n",
      "/Users/scottlew/miniconda3/lib/python3.6/site-packages/sklearn/linear_model/coordinate_descent.py:471: ConvergenceWarning: Objective did not converge. You might want to increase the number of iterations. Duality gap: 667.6362677080842, tolerance: 13.335652607184242\n",
      "  tol, rng, random, positive)\n",
      "/Users/scottlew/miniconda3/lib/python3.6/site-packages/sklearn/linear_model/coordinate_descent.py:475: ConvergenceWarning: Objective did not converge. You might want to increase the number of iterations. Duality gap: 5862.560934274151, tolerance: 20.065498918083467\n",
      "  positive)\n"
     ]
    },
    {
     "name": "stdout",
     "output_type": "stream",
     "text": [
      "Best alpha using built-in LassoCV: 2.329571\n",
      "Best score using built-in LassoCV: 0.958007\n"
     ]
    }
   ],
   "source": [
    "# code taken from https://towardsdatascience.com/feature-selection-with-pandas-e3690ad8504b\n",
    "reg = LassoCV()\n",
    "reg.fit(X_train, y_train)\n",
    "print(\"Best alpha using built-in LassoCV: %f\" % reg.alpha_)\n",
    "print(\"Best score using built-in LassoCV: %f\" %reg.score(X_test,y_test))\n",
    "coef = pd.Series(reg.coef_, index = preds)"
   ]
  },
  {
   "cell_type": "code",
   "execution_count": 26,
   "metadata": {},
   "outputs": [
    {
     "name": "stdout",
     "output_type": "stream",
     "text": [
      "Lasso picked 15 variables and eliminated the other 18 variables\n"
     ]
    }
   ],
   "source": [
    "print(\"Lasso picked \" + str(sum(coef != 0)) + \" variables and eliminated the other \" +  str(sum(coef == 0)) + \" variables\")"
   ]
  },
  {
   "cell_type": "code",
   "execution_count": 27,
   "metadata": {},
   "outputs": [
    {
     "data": {
      "image/png": "[encoded data removed]",
      "text/plain": [
       "<matplotlib.figure.Figure at 0x1176b9d68>"
      ]
     },
     "metadata": {},
     "output_type": "display_data"
    }
   ],
   "source": [
    "imp_coef = coef.sort_values()\n",
    "import matplotlib\n",
    "#matplotlib.rcParams['figure.figsize'] = (8.0, 10.0)\n",
    "plt.figure(figsize = [8,10])\n",
    "imp_coef.plot(kind = \"barh\")\n",
    "plt.title(\"Feature importance using Lasso Model\")\n",
    "plt.savefig('LASSO_Features_Importance-A.png')"
   ]
  },
  {
   "cell_type": "code",
   "execution_count": 28,
   "metadata": {},
   "outputs": [
    {
     "data": {
      "image/png": "[encoded data removed]",
      "text/plain": [
       "<matplotlib.figure.Figure at 0x11aa8a390>"
      ]
     },
     "metadata": {},
     "output_type": "display_data"
    }
   ],
   "source": [
    "imp_coef = coef.sort_values()\n",
    "import matplotlib\n",
    "#matplotlib.rcParams['figure.figsize'] = (8.0, 10.0)\n",
    "plt.figure(figsize = [9,6])\n",
    "imp_coef.plot(kind = \"bar\")\n",
    "plt.title(\"Feature importance using Lasso Model\",weight = 'bold',size =20)\n",
    "plt.savefig('LASSO_Features_Importance-B.png')"
   ]
  },
  {
   "cell_type": "code",
   "execution_count": 29,
   "metadata": {},
   "outputs": [
    {
     "data": {
      "text/plain": [
       "G_x      0.000000\n",
       "PA      -0.126490\n",
       "R_x      0.184043\n",
       "H_x      0.000000\n",
       "2B      -0.003098\n",
       "3B      -0.000000\n",
       "HR_x     0.000000\n",
       "SB       0.000000\n",
       "OBP      0.000000\n",
       "OPS      0.000000\n",
       "SH       0.000000\n",
       "SF       0.000000\n",
       "IBB_x    0.002727\n",
       "LOB_x    0.128585\n",
       "BB_y    -0.018697\n",
       "BF      -0.018613\n",
       "BK      -0.000000\n",
       "CG       0.061621\n",
       "GF      -0.000000\n",
       "H_y     -0.022946\n",
       "H9      -0.000000\n",
       "HR_y    -0.020200\n",
       "IBB_y   -0.000000\n",
       "IP       0.489765\n",
       "LOB_y    0.026645\n",
       "RA/G    -0.000000\n",
       "SO_y     0.000834\n",
       "SO9      0.000000\n",
       "SV       0.175806\n",
       "WHIP    -0.000000\n",
       "WP      -0.001137\n",
       "cSho     0.000000\n",
       "tSho     0.000000\n",
       "dtype: float64"
      ]
     },
     "execution_count": 29,
     "metadata": {},
     "output_type": "execute_result"
    }
   ],
   "source": [
    "coef"
   ]
  },
  {
   "cell_type": "markdown",
   "metadata": {},
   "source": [
    "## OLS Model Using Regressors Chosen By LASSO Above"
   ]
  },
  {
   "cell_type": "code",
   "execution_count": 30,
   "metadata": {},
   "outputs": [
    {
     "name": "stdout",
     "output_type": "stream",
     "text": [
      "16\n"
     ]
    }
   ],
   "source": [
    "#preds2 = ['PA', 'R_x', '2B','IBB_x', 'LOB_x','BB_y', 'BF', 'CG','H_y', 'H9', 'HR_y',\n",
    "          #'IP', 'LOB_y', 'SO_y', 'SV', 'WP','WHIP','RA/G']\n",
    "\n",
    "preds2 = ['PA', 'R_x', '2B','LOB_x','BB_y', 'BF', 'CG','H_y', 'H9', 'HR_y',\n",
    "          'IP', 'LOB_y', 'SO_y', 'SV', 'WHIP','RA/G']\n",
    "\n",
    "print(len(preds2))"
   ]
  },
  {
   "cell_type": "code",
   "execution_count": 31,
   "metadata": {},
   "outputs": [
    {
     "name": "stdout",
     "output_type": "stream",
     "text": [
      "(1294, 16) (1294,)\n",
      "(324, 16) (324,)\n"
     ]
    }
   ],
   "source": [
    "# create training and testing data\n",
    "y = df_fil.W\n",
    "X = df_fil[preds2]\n",
    "X_train, X_test, y_train, y_test = train_test_split(X, y, test_size=0.2,random_state =42)\n",
    "print(X_train.shape, y_train.shape)\n",
    "print(X_test.shape, y_test.shape)"
   ]
  },
  {
   "cell_type": "code",
   "execution_count": 32,
   "metadata": {
    "collapsed": true
   },
   "outputs": [],
   "source": [
    "# fit a model\n",
    "lm_2 = LinearRegression()\n",
    "model_op2 = lm_2.fit(X_train, y_train)\n",
    "predictions = lm_2.predict(X_test)"
   ]
  },
  {
   "cell_type": "code",
   "execution_count": 33,
   "metadata": {},
   "outputs": [
    {
     "name": "stdout",
     "output_type": "stream",
     "text": [
      "The Trainng Score For Model:\n",
      "0.97475027622\n",
      "\n",
      "The Test Score For Model :\n",
      "0.976565829176\n",
      "\n"
     ]
    }
   ],
   "source": [
    "print(\"The Trainng Score For Model:\")\n",
    "print(model_op2.score(X_train,y_train))\n",
    "print()\n",
    "print(\"The Test Score For Model :\")\n",
    "print(model_op2.score(X_test,y_test))\n",
    "print()"
   ]
  },
  {
   "cell_type": "code",
   "execution_count": 34,
   "metadata": {},
   "outputs": [
    {
     "name": "stdout",
     "output_type": "stream",
     "text": [
      "For Scikit Learn Linear Regression Model With 16 Regressor-Predictors:\n",
      "Root Mean Squared Error Train(RMSE) for training data: 1.9787282717099435\n",
      "\n",
      "Root Mean Squared Error(RMSE) for test data: 1.9017913439913379\n",
      "\n"
     ]
    }
   ],
   "source": [
    "pred_train = model_op2.predict(X_train)\n",
    "rmse_train = np.sqrt(mean_squared_error(y_train,pred_train))\n",
    "print('For Scikit Learn Linear Regression Model With '+ str(len(preds2)) +' Regressor-Predictors:')\n",
    "print(\"Root Mean Squared Error Train(RMSE) for training data: {}\".format(rmse_train))\n",
    "\n",
    "print()\n",
    "rmse_test = np.sqrt(mean_squared_error(y_test,predictions))\n",
    "print(\"Root Mean Squared Error(RMSE) for test data: {}\".format(rmse_test))\n",
    "\n",
    "print()"
   ]
  },
  {
   "cell_type": "code",
   "execution_count": 35,
   "metadata": {
    "collapsed": true
   },
   "outputs": [],
   "source": [
    "resid = y_test - predictions"
   ]
  },
  {
   "cell_type": "code",
   "execution_count": 36,
   "metadata": {},
   "outputs": [
    {
     "data": {
      "image/png": "[encoded data removed]",
      "text/plain": [
       "<matplotlib.figure.Figure at 0x1c268de828>"
      ]
     },
     "metadata": {},
     "output_type": "display_data"
    }
   ],
   "source": [
    "plt.figure(figsize = [9,6])\n",
    "sns.distplot(resid)\n",
    "plt.xlabel('Residuals', weight = 'bold',size =16)\n",
    "plt.title(\"Distribution of Linear Regression Model Residuals\",weight = 'bold',size =18)\n",
    "plt.savefig('LASSO_op_OLS_Resid_distribution.png')"
   ]
  },
  {
   "cell_type": "code",
   "execution_count": 37,
   "metadata": {},
   "outputs": [
    {
     "data": {
      "image/png": "[encoded data removed]",
      "text/plain": [
       "<matplotlib.figure.Figure at 0x1c26c8a278>"
      ]
     },
     "metadata": {},
     "output_type": "display_data"
    }
   ],
   "source": [
    "plt.figure(figsize = [9,6])\n",
    "plt.scatter(y_test, predictions)\n",
    "plt.title(\"Scikit-learn Regression Model with 16 Regressors\",weight = 'bold',size =18)\n",
    "plt.xlabel('True Values',weight = 'bold',size =17)\n",
    "plt.ylabel('Predictions',weight = 'bold',size =17)\n",
    "plt.savefig('LASSO_Optimized_OLS_ModelPredictions.png')"
   ]
  },
  {
   "cell_type": "code",
   "execution_count": 38,
   "metadata": {
    "collapsed": true
   },
   "outputs": [],
   "source": [
    "features = ['TB','PA', 'R_x', '2B','IBB_x', 'LOB_x','BB_y', 'BF', 'CG','H_x','H_y', 'H9', 'HR_y',\n",
    "            'IP', 'LOB_y', 'SO_y', 'SV', 'WP','WHIP','RA/G','W']\n",
    "\n",
    "data = df_fil[features]"
   ]
  },
  {
   "cell_type": "code",
   "execution_count": 39,
   "metadata": {},
   "outputs": [
    {
     "name": "stdout",
     "output_type": "stream",
     "text": [
      "             TB        PA       R_x        2B     IBB_x     LOB_x      BB_y  \\\n",
      "TB     1.000000  0.697982  0.920049  0.781242 -0.044520  0.556507  0.237204   \n",
      "PA     0.697982  1.000000  0.613428  0.487318  0.172222  0.871577  0.388749   \n",
      "R_x    0.920049  0.613428  1.000000  0.694054  0.016036  0.540726  0.194353   \n",
      "2B     0.781242  0.487318  0.694054  1.000000 -0.117656  0.403360  0.138302   \n",
      "IBB_x -0.044520  0.172222  0.016036 -0.117656  1.000000  0.281044 -0.061261   \n",
      "LOB_x  0.556507  0.871577  0.540726  0.403360  0.281044  1.000000  0.343575   \n",
      "BB_y   0.237204  0.388749  0.194353  0.138302 -0.061261  0.343575  1.000000   \n",
      "BF     0.600748  0.945251  0.468112  0.422743  0.075011  0.755633  0.545499   \n",
      "CG    -0.317569 -0.037201 -0.220648 -0.582325  0.292250  0.041777 -0.076898   \n",
      "H_x    0.870556  0.812013  0.818300  0.668792  0.108163  0.722792  0.278987   \n",
      "H_y    0.571269  0.693812  0.467217  0.466160 -0.104251  0.549210  0.416001   \n",
      "H9     0.236755  0.016927  0.222279  0.277833 -0.300441  0.010993  0.222380   \n",
      "HR_y   0.596687  0.355645  0.499255  0.520174 -0.385313  0.199925  0.298893   \n",
      "IP     0.535846  0.956379  0.406880  0.342916  0.190909  0.759467  0.333255   \n",
      "LOB_y  0.446041  0.765662  0.350485  0.306608  0.097584  0.657961  0.718943   \n",
      "SO_y   0.463110  0.411951  0.318478  0.529538 -0.127832  0.271456  0.062734   \n",
      "SV     0.424529  0.308951  0.391477  0.463694  0.042910  0.214012 -0.070541   \n",
      "WP     0.222436  0.239152  0.133841  0.258827 -0.173344  0.128789  0.338864   \n",
      "WHIP   0.173160 -0.002922  0.169985  0.194498 -0.293534  0.014400  0.624724   \n",
      "RA/G   0.296391  0.044583  0.266823  0.322560 -0.382495  0.012726  0.474721   \n",
      "W      0.525836  0.481000  0.604954  0.310653  0.330542  0.444813 -0.199600   \n",
      "\n",
      "             BF        CG       H_x  ...        H9      HR_y        IP  \\\n",
      "TB     0.600748 -0.317569  0.870556  ...  0.236755  0.596687  0.535846   \n",
      "PA     0.945251 -0.037201  0.812013  ...  0.016927  0.355645  0.956379   \n",
      "R_x    0.468112 -0.220648  0.818300  ...  0.222279  0.499255  0.406880   \n",
      "2B     0.422743 -0.582325  0.668792  ...  0.277833  0.520174  0.342916   \n",
      "IBB_x  0.075011  0.292250  0.108163  ... -0.300441 -0.385313  0.190909   \n",
      "LOB_x  0.755633  0.041777  0.722792  ...  0.010993  0.199925  0.759467   \n",
      "BB_y   0.545499 -0.076898  0.278987  ...  0.222380  0.298893  0.333255   \n",
      "BF     1.000000 -0.082031  0.716179  ...  0.177428  0.415934  0.935949   \n",
      "CG    -0.082031  1.000000 -0.121477  ... -0.290212 -0.481967  0.030395   \n",
      "H_x    0.716179 -0.121477  1.000000  ...  0.207717  0.385149  0.676963   \n",
      "H_y    0.807729 -0.209953  0.648703  ...  0.706364  0.546176  0.611266   \n",
      "H9     0.177428 -0.290212  0.207717  ...  1.000000  0.471745 -0.124781   \n",
      "HR_y   0.415934 -0.481967  0.385149  ...  0.471745  1.000000  0.239532   \n",
      "IP     0.935949  0.030395  0.676963  ... -0.124781  0.239532  1.000000   \n",
      "LOB_y  0.883442 -0.042806  0.576234  ...  0.268273  0.270165  0.740503   \n",
      "SO_y   0.366670 -0.557976  0.296335  ... -0.211812  0.425935  0.413383   \n",
      "SV     0.221746 -0.574879  0.341925  ... -0.140321  0.178894  0.293201   \n",
      "WP     0.320584 -0.340572  0.167142  ...  0.129171  0.319895  0.228763   \n",
      "WHIP   0.202602 -0.258161  0.140944  ...  0.868458  0.444962 -0.145351   \n",
      "RA/G   0.221440 -0.386437  0.191037  ...  0.869935  0.654902 -0.110512   \n",
      "W      0.241275  0.109926  0.523698  ... -0.480256 -0.082245  0.446583   \n",
      "\n",
      "          LOB_y      SO_y        SV        WP      WHIP      RA/G         W  \n",
      "TB     0.446041  0.463110  0.424529  0.222436  0.173160  0.296391  0.525836  \n",
      "PA     0.765662  0.411951  0.308951  0.239152 -0.002922  0.044583  0.481000  \n",
      "R_x    0.350485  0.318478  0.391477  0.133841  0.169985  0.266823  0.604954  \n",
      "2B     0.306608  0.529538  0.463694  0.258827  0.194498  0.322560  0.310653  \n",
      "IBB_x  0.097584 -0.127832  0.042910 -0.173344 -0.293534 -0.382495  0.330542  \n",
      "LOB_x  0.657961  0.271456  0.214012  0.128789  0.014400  0.012726  0.444813  \n",
      "BB_y   0.718943  0.062734 -0.070541  0.338864  0.624724  0.474721 -0.199600  \n",
      "BF     0.883442  0.366670  0.221746  0.320584  0.202602  0.221440  0.241275  \n",
      "CG    -0.042806 -0.557976 -0.574879 -0.340572 -0.258161 -0.386437  0.109926  \n",
      "H_x    0.576234  0.296335  0.341925  0.167142  0.140944  0.191037  0.523698  \n",
      "H_y    0.742573  0.122292  0.095482  0.261460  0.589169  0.613762 -0.066762  \n",
      "H9     0.268273 -0.211812 -0.140321  0.129171  0.868458  0.869935 -0.480256  \n",
      "HR_y   0.270165  0.425935  0.178894  0.319895  0.444962  0.654902 -0.082245  \n",
      "IP     0.740503  0.413383  0.293201  0.228763 -0.145351 -0.110512  0.446583  \n",
      "LOB_y  1.000000  0.215624  0.106464  0.283222  0.408611  0.274527  0.091840  \n",
      "SO_y   0.215624  1.000000  0.485970  0.430802 -0.214828 -0.045200  0.314693  \n",
      "SV     0.106464  0.485970  1.000000  0.166118 -0.208449 -0.140954  0.532243  \n",
      "WP     0.283222  0.430802  0.166118  1.000000  0.223433  0.300982 -0.100105  \n",
      "WHIP   0.408611 -0.214828 -0.208449  0.223433  1.000000  0.911557 -0.558840  \n",
      "RA/G   0.274527 -0.045200 -0.140954  0.300982  0.911557  1.000000 -0.535131  \n",
      "W      0.091840  0.314693  0.532243 -0.100105 -0.558840 -0.535131  1.000000  \n",
      "\n",
      "[21 rows x 21 columns]\n"
     ]
    }
   ],
   "source": [
    "print(data.corr())"
   ]
  },
  {
   "cell_type": "code",
   "execution_count": 40,
   "metadata": {},
   "outputs": [
    {
     "name": "stdout",
     "output_type": "stream",
     "text": [
      "Statsmodel with 16 Regressors\n",
      "                                 OLS Regression Results                                \n",
      "=======================================================================================\n",
      "Dep. Variable:                      W   R-squared (uncentered):                   0.999\n",
      "Model:                            OLS   Adj. R-squared (uncentered):              0.999\n",
      "Method:                 Least Squares   F-statistic:                          1.313e+05\n",
      "Date:                Tue, 10 Sep 2019   Prob (F-statistic):                        0.00\n",
      "Time:                        22:26:12   Log-Likelihood:                         -2721.8\n",
      "No. Observations:                1294   AIC:                                      5476.\n",
      "Df Residuals:                    1278   BIC:                                      5558.\n",
      "Df Model:                          16                                                  \n",
      "Covariance Type:            nonrobust                                                  \n",
      "==============================================================================\n",
      "                 coef    std err          t      P>|t|      [0.025      0.975]\n",
      "------------------------------------------------------------------------------\n",
      "PA            -0.2743      0.006    -49.435      0.000      -0.285      -0.263\n",
      "R_x            0.2919      0.004     68.689      0.000       0.284       0.300\n",
      "2B            -0.0032      0.002     -1.346      0.178      -0.008       0.001\n",
      "LOB_x          0.2771      0.006     48.856      0.000       0.266       0.288\n",
      "BB_y          -0.0454      0.008     -5.446      0.000      -0.062      -0.029\n",
      "BF             0.0653      0.009      7.191      0.000       0.047       0.083\n",
      "CG             0.0251      0.007      3.403      0.001       0.011       0.040\n",
      "H_y           -0.0229      0.005     -4.874      0.000      -0.032      -0.014\n",
      "H9            -3.6369      1.572     -2.313      0.021      -6.721      -0.552\n",
      "HR_y          -0.0064      0.003     -2.017      0.044      -0.013      -0.000\n",
      "IP             0.6798      0.027     25.344      0.000       0.627       0.732\n",
      "LOB_y         -0.0687      0.009     -7.621      0.000      -0.086      -0.051\n",
      "SO_y           0.0014      0.001      2.521      0.012       0.000       0.002\n",
      "SV             0.0742      0.012      6.418      0.000       0.052       0.097\n",
      "WHIP          64.1253     11.511      5.571      0.000      41.544      86.707\n",
      "RA/G         -12.3345      1.388     -8.887      0.000     -15.057      -9.611\n",
      "==============================================================================\n",
      "Omnibus:                       33.596   Durbin-Watson:                   1.953\n",
      "Prob(Omnibus):                  0.000   Jarque-Bera (JB):               61.929\n",
      "Skew:                           0.172   Prob(JB):                     3.57e-14\n",
      "Kurtosis:                       4.015   Cond. No.                     1.91e+06\n",
      "==============================================================================\n",
      "\n",
      "Warnings:\n",
      "[1] Standard Errors assume that the covariance matrix of the errors is correctly specified.\n",
      "[2] The condition number is large, 1.91e+06. This might indicate that there are\n",
      "strong multicollinearity or other numerical problems.\n"
     ]
    }
   ],
   "source": [
    "model = sm.OLS(y_train, X_train)\n",
    "results = model.fit()\n",
    "print('Statsmodel with ' + str(len(preds2)) +' Regressors')\n",
    "print(results.summary())"
   ]
  },
  {
   "cell_type": "code",
   "execution_count": 41,
   "metadata": {},
   "outputs": [
    {
     "name": "stdout",
     "output_type": "stream",
     "text": [
      "1294\n",
      "\n",
      "324\n"
     ]
    }
   ],
   "source": [
    "ypred_test = results.predict(X_test)\n",
    "ypred_train = results.predict(X_train)\n",
    "print(len(ypred_train))\n",
    "print()\n",
    "print(len(ypred_test))"
   ]
  },
  {
   "cell_type": "code",
   "execution_count": 42,
   "metadata": {},
   "outputs": [
    {
     "name": "stdout",
     "output_type": "stream",
     "text": [
      "For Statsmodel Linear Regression Model With 16 Regressor-Predictors:\n",
      "Root Mean Squared Error Train(RMSE) for training data: 1.9827560560402746\n",
      "\n",
      "Root Mean Squared Error(RMSE) for test data: 1.9104043496052243\n",
      "\n"
     ]
    }
   ],
   "source": [
    "rmse_train = np.sqrt(mean_squared_error(y_train,ypred_train))\n",
    "print('For Statsmodel Linear Regression Model With '+ str(len(preds2)) +' Regressor-Predictors:')\n",
    "print(\"Root Mean Squared Error Train(RMSE) for training data: {}\".format(rmse_train))\n",
    "\n",
    "print()\n",
    "rmse_test = np.sqrt(mean_squared_error(y_test,ypred_test))\n",
    "print(\"Root Mean Squared Error(RMSE) for test data: {}\".format(rmse_test))\n",
    "\n",
    "print()"
   ]
  },
  {
   "cell_type": "code",
   "execution_count": 43,
   "metadata": {
    "collapsed": true
   },
   "outputs": [],
   "source": [
    "features3 = ['W','PA', 'R_x', '2B','LOB_x','BB_y', 'BF', 'CG','H_y']\n",
    "\n",
    "features4 = ['W','H9','HR_y','IP', 'LOB_y', 'SO_y', 'SV','WHIP','RA/G']\n",
    "\n",
    "data3 = df_fil[features3]\n",
    "data4 = df_fil[features4]"
   ]
  },
  {
   "cell_type": "code",
   "execution_count": 44,
   "metadata": {},
   "outputs": [
    {
     "data": {
      "image/png": "[encoded data removed]",
      "text/plain": [
       "<matplotlib.figure.Figure at 0x1c2696eba8>"
      ]
     },
     "metadata": {},
     "output_type": "display_data"
    }
   ],
   "source": [
    "plt.figure(figsize = [9,6]) \n",
    "#plt.fontweight = 'bold'\n",
    "plt.tick_params(labelsize=15)\n",
    "corr = data3.corr()\n",
    "sns.heatmap(corr,cmap= sns.diverging_palette(220,320, n=15),\n",
    "            xticklabels=corr.columns.values,\n",
    "            yticklabels=corr.columns.values)\n",
    "plt.savefig('MLB_W_hmap_6.png')\n",
    "#plt.xlabel(fontweight='bold')\n",
    "#plt.ylabel(fontweight='bold')"
   ]
  },
  {
   "cell_type": "code",
   "execution_count": 45,
   "metadata": {},
   "outputs": [
    {
     "data": {
      "image/png": "[encoded data removed]",
      "text/plain": [
       "<matplotlib.figure.Figure at 0x1c268d6748>"
      ]
     },
     "metadata": {},
     "output_type": "display_data"
    }
   ],
   "source": [
    "plt.figure(figsize = [9,6]) \n",
    "#plt.fontweight = 'bold'\n",
    "plt.tick_params(labelsize=15)\n",
    "corr = data4.corr()\n",
    "sns.heatmap(corr,cmap= sns.diverging_palette(220,320, n=15),\n",
    "            xticklabels=corr.columns.values,\n",
    "            yticklabels=corr.columns.values)\n",
    "plt.savefig('MLB_W_hmap_7.png')\n",
    "#plt.xlabel(fontweight='bold')\n",
    "#plt.ylabel(fontweight='bold')"
   ]
  },
  {
   "cell_type": "markdown",
   "metadata": {
    "collapsed": true
   },
   "source": [
    "## Test of OLS Model on Korean Baseball Data"
   ]
  },
  {
   "cell_type": "code",
   "execution_count": 46,
   "metadata": {
    "collapsed": true
   },
   "outputs": [],
   "source": [
    "kor = pd.read_csv('MLB_KBO_STATS_1876-2018_BP.csv') # korean baseball stats 2008-2018"
   ]
  },
  {
   "cell_type": "code",
   "execution_count": 47,
   "metadata": {},
   "outputs": [
    {
     "data": {
      "text/html": [
       "<div>\n",
       "<style scoped>\n",
       "    .dataframe tbody tr th:only-of-type {\n",
       "        vertical-align: middle;\n",
       "    }\n",
       "\n",
       "    .dataframe tbody tr th {\n",
       "        vertical-align: top;\n",
       "    }\n",
       "\n",
       "    .dataframe thead th {\n",
       "        text-align: right;\n",
       "    }\n",
       "</style>\n",
       "<table border=\"1\" class=\"dataframe\">\n",
       "  <thead>\n",
       "    <tr style=\"text-align: right;\">\n",
       "      <th></th>\n",
       "      <th>#Bat</th>\n",
       "      <th>#P</th>\n",
       "      <th>2B</th>\n",
       "      <th>3B</th>\n",
       "      <th>AB</th>\n",
       "      <th>BA</th>\n",
       "      <th>BB9</th>\n",
       "      <th>BB_x</th>\n",
       "      <th>BB_y</th>\n",
       "      <th>BF</th>\n",
       "      <th>...</th>\n",
       "      <th>SV</th>\n",
       "      <th>TB</th>\n",
       "      <th>Tm</th>\n",
       "      <th>W</th>\n",
       "      <th>W-L%</th>\n",
       "      <th>WHIP</th>\n",
       "      <th>WP</th>\n",
       "      <th>Year</th>\n",
       "      <th>cSho</th>\n",
       "      <th>tSho</th>\n",
       "    </tr>\n",
       "  </thead>\n",
       "  <tbody>\n",
       "    <tr>\n",
       "      <th>0</th>\n",
       "      <td>21.0</td>\n",
       "      <td>5.0</td>\n",
       "      <td>79</td>\n",
       "      <td>35</td>\n",
       "      <td>2387</td>\n",
       "      <td>0.271</td>\n",
       "      <td>0.7</td>\n",
       "      <td>27</td>\n",
       "      <td>41</td>\n",
       "      <td>2565</td>\n",
       "      <td>...</td>\n",
       "      <td>2</td>\n",
       "      <td>816</td>\n",
       "      <td>ATH</td>\n",
       "      <td>14</td>\n",
       "      <td>0.237</td>\n",
       "      <td>1.498</td>\n",
       "      <td>33</td>\n",
       "      <td>1876</td>\n",
       "      <td>1.0</td>\n",
       "      <td>1.0</td>\n",
       "    </tr>\n",
       "    <tr>\n",
       "      <th>1</th>\n",
       "      <td>17.0</td>\n",
       "      <td>6.0</td>\n",
       "      <td>96</td>\n",
       "      <td>24</td>\n",
       "      <td>2722</td>\n",
       "      <td>0.266</td>\n",
       "      <td>1.5</td>\n",
       "      <td>58</td>\n",
       "      <td>104</td>\n",
       "      <td>2834</td>\n",
       "      <td>...</td>\n",
       "      <td>7</td>\n",
       "      <td>894</td>\n",
       "      <td>BSN</td>\n",
       "      <td>39</td>\n",
       "      <td>0.557</td>\n",
       "      <td>1.323</td>\n",
       "      <td>46</td>\n",
       "      <td>1876</td>\n",
       "      <td>3.0</td>\n",
       "      <td>3.0</td>\n",
       "    </tr>\n",
       "    <tr>\n",
       "      <th>2</th>\n",
       "      <td>11.0</td>\n",
       "      <td>5.0</td>\n",
       "      <td>131</td>\n",
       "      <td>32</td>\n",
       "      <td>2748</td>\n",
       "      <td>0.337</td>\n",
       "      <td>0.4</td>\n",
       "      <td>70</td>\n",
       "      <td>29</td>\n",
       "      <td>2489</td>\n",
       "      <td>...</td>\n",
       "      <td>4</td>\n",
       "      <td>1145</td>\n",
       "      <td>CHC</td>\n",
       "      <td>52</td>\n",
       "      <td>0.788</td>\n",
       "      <td>1.075</td>\n",
       "      <td>3</td>\n",
       "      <td>1876</td>\n",
       "      <td>8.0</td>\n",
       "      <td>9.0</td>\n",
       "    </tr>\n",
       "    <tr>\n",
       "      <th>3</th>\n",
       "      <td>13.0</td>\n",
       "      <td>7.0</td>\n",
       "      <td>51</td>\n",
       "      <td>12</td>\n",
       "      <td>2372</td>\n",
       "      <td>0.234</td>\n",
       "      <td>0.5</td>\n",
       "      <td>41</td>\n",
       "      <td>34</td>\n",
       "      <td>2749</td>\n",
       "      <td>...</td>\n",
       "      <td>0</td>\n",
       "      <td>642</td>\n",
       "      <td>CIN</td>\n",
       "      <td>9</td>\n",
       "      <td>0.138</td>\n",
       "      <td>1.496</td>\n",
       "      <td>28</td>\n",
       "      <td>1876</td>\n",
       "      <td>0.0</td>\n",
       "      <td>0.0</td>\n",
       "    </tr>\n",
       "    <tr>\n",
       "      <th>4</th>\n",
       "      <td>12.0</td>\n",
       "      <td>2.0</td>\n",
       "      <td>96</td>\n",
       "      <td>22</td>\n",
       "      <td>2664</td>\n",
       "      <td>0.267</td>\n",
       "      <td>0.4</td>\n",
       "      <td>39</td>\n",
       "      <td>27</td>\n",
       "      <td>2536</td>\n",
       "      <td>...</td>\n",
       "      <td>0</td>\n",
       "      <td>857</td>\n",
       "      <td>HAR</td>\n",
       "      <td>47</td>\n",
       "      <td>0.691</td>\n",
       "      <td>0.957</td>\n",
       "      <td>15</td>\n",
       "      <td>1876</td>\n",
       "      <td>11.0</td>\n",
       "      <td>11.0</td>\n",
       "    </tr>\n",
       "  </tbody>\n",
       "</table>\n",
       "<p>5 rows × 69 columns</p>\n",
       "</div>"
      ],
      "text/plain": [
       "   #Bat   #P   2B  3B    AB     BA  BB9  BB_x  BB_y    BF  ...  SV    TB   Tm  \\\n",
       "0  21.0  5.0   79  35  2387  0.271  0.7    27    41  2565  ...   2   816  ATH   \n",
       "1  17.0  6.0   96  24  2722  0.266  1.5    58   104  2834  ...   7   894  BSN   \n",
       "2  11.0  5.0  131  32  2748  0.337  0.4    70    29  2489  ...   4  1145  CHC   \n",
       "3  13.0  7.0   51  12  2372  0.234  0.5    41    34  2749  ...   0   642  CIN   \n",
       "4  12.0  2.0   96  22  2664  0.267  0.4    39    27  2536  ...   0   857  HAR   \n",
       "\n",
       "    W   W-L%   WHIP  WP  Year  cSho  tSho  \n",
       "0  14  0.237  1.498  33  1876   1.0   1.0  \n",
       "1  39  0.557  1.323  46  1876   3.0   3.0  \n",
       "2  52  0.788  1.075   3  1876   8.0   9.0  \n",
       "3   9  0.138  1.496  28  1876   0.0   0.0  \n",
       "4  47  0.691  0.957  15  1876  11.0  11.0  \n",
       "\n",
       "[5 rows x 69 columns]"
      ]
     },
     "execution_count": 47,
     "metadata": {},
     "output_type": "execute_result"
    }
   ],
   "source": [
    "kor.head()"
   ]
  },
  {
   "cell_type": "code",
   "execution_count": 48,
   "metadata": {},
   "outputs": [
    {
     "data": {
      "text/plain": [
       "(2913, 69)"
      ]
     },
     "execution_count": 48,
     "metadata": {},
     "output_type": "execute_result"
    }
   ],
   "source": [
    "kor.shape"
   ]
  },
  {
   "cell_type": "code",
   "execution_count": 49,
   "metadata": {
    "collapsed": true
   },
   "outputs": [],
   "source": [
    "kor_features = ['W','PA', 'R_x', '2B','LOB_x','BB_y', 'BF', 'CG','H_y', 'H9', 'HR_y',\n",
    "          'IP', 'LOB_y', 'SO_y', 'SV', 'WHIP','RA/G']"
   ]
  },
  {
   "cell_type": "code",
   "execution_count": 50,
   "metadata": {
    "collapsed": true
   },
   "outputs": [],
   "source": [
    "# minature korean baseball data\n",
    "kor_mini = kor[kor_features]"
   ]
  },
  {
   "cell_type": "code",
   "execution_count": 51,
   "metadata": {},
   "outputs": [
    {
     "data": {
      "text/plain": [
       "W          0\n",
       "PA         0\n",
       "R_x        0\n",
       "2B         0\n",
       "LOB_x    543\n",
       "BB_y       0\n",
       "BF         0\n",
       "CG         0\n",
       "H_y        0\n",
       "H9         0\n",
       "HR_y       0\n",
       "IP         0\n",
       "LOB_y    543\n",
       "SO_y       0\n",
       "SV         0\n",
       "WHIP       0\n",
       "RA/G      98\n",
       "dtype: int64"
      ]
     },
     "execution_count": 51,
     "metadata": {},
     "output_type": "execute_result"
    }
   ],
   "source": [
    "kor_mini.isnull().sum()"
   ]
  },
  {
   "cell_type": "code",
   "execution_count": 52,
   "metadata": {},
   "outputs": [
    {
     "data": {
      "text/plain": [
       "Index(['W', 'PA', 'R_x', '2B', 'LOB_x', 'BB_y', 'BF', 'CG', 'H_y', 'H9',\n",
       "       'HR_y', 'IP', 'LOB_y', 'SO_y', 'SV', 'WHIP', 'RA/G'],\n",
       "      dtype='object')"
      ]
     },
     "execution_count": 52,
     "metadata": {},
     "output_type": "execute_result"
    }
   ],
   "source": [
    "kor_mini.columns"
   ]
  },
  {
   "cell_type": "code",
   "execution_count": 53,
   "metadata": {
    "collapsed": true
   },
   "outputs": [],
   "source": [
    "kor_mini2 = kor_mini.dropna()"
   ]
  },
  {
   "cell_type": "code",
   "execution_count": 54,
   "metadata": {},
   "outputs": [
    {
     "data": {
      "text/plain": [
       "(2370, 17)"
      ]
     },
     "execution_count": 54,
     "metadata": {},
     "output_type": "execute_result"
    }
   ],
   "source": [
    "kor_mini2.shape"
   ]
  },
  {
   "cell_type": "code",
   "execution_count": 55,
   "metadata": {},
   "outputs": [
    {
     "data": {
      "text/plain": [
       "Index(['W', 'PA', 'R_x', '2B', 'LOB_x', 'BB_y', 'BF', 'CG', 'H_y', 'H9',\n",
       "       'HR_y', 'IP', 'LOB_y', 'SO_y', 'SV', 'WHIP', 'RA/G'],\n",
       "      dtype='object')"
      ]
     },
     "execution_count": 55,
     "metadata": {},
     "output_type": "execute_result"
    }
   ],
   "source": [
    "kor_mini2.columns"
   ]
  },
  {
   "cell_type": "code",
   "execution_count": 56,
   "metadata": {
    "collapsed": true
   },
   "outputs": [],
   "source": [
    "# create training and testing data\n",
    "ykor = kor_mini2.W\n",
    "Xkor = kor_mini2[preds2]"
   ]
  },
  {
   "cell_type": "code",
   "execution_count": 57,
   "metadata": {
    "collapsed": true
   },
   "outputs": [],
   "source": [
    "# Make predictions using optimized OLS model used before\n",
    "kor_predictions = model_op2.predict(Xkor)"
   ]
  },
  {
   "cell_type": "code",
   "execution_count": 58,
   "metadata": {},
   "outputs": [
    {
     "name": "stdout",
     "output_type": "stream",
     "text": [
      "For Scikit Learn Linear Regression Model With Korean Baseball Data 16 Regressor-Predictors:\n",
      "\n",
      "Root Mean Squared Error(RMSE) for Korean Baseball data: 3.954047333316139\n",
      "\n"
     ]
    }
   ],
   "source": [
    "\n",
    "print('For Scikit Learn Linear Regression Model With Korean Baseball Data '+ str(len(preds2)) +' Regressor-Predictors:')\n",
    "print()\n",
    "\n",
    "rmse_ = np.sqrt(mean_squared_error(ykor,kor_predictions))\n",
    "print(\"Root Mean Squared Error(RMSE) for Korean Baseball data: {}\".format(rmse_))\n",
    "\n",
    "print()"
   ]
  },
  {
   "cell_type": "code",
   "execution_count": 59,
   "metadata": {},
   "outputs": [
    {
     "data": {
      "image/png": "[encoded data removed]",
      "text/plain": [
       "<matplotlib.figure.Figure at 0x1c2696e048>"
      ]
     },
     "metadata": {},
     "output_type": "display_data"
    }
   ],
   "source": [
    "plt.figure(figsize = [9,6])\n",
    "plt.scatter(ykor, kor_predictions)\n",
    "plt.title(\"Scikit-learn Regression Model with Korean Baseball Data\",weight = 'bold',size =18)\n",
    "plt.xlabel('True Values',weight = 'bold',size =17)\n",
    "plt.ylabel('Predictions',weight = 'bold',size =17)\n",
    "plt.savefig('LASSO_Optimized_OLS_KoreanBB_Predictions.png')"
   ]
  },
  {
   "cell_type": "code",
   "execution_count": 60,
   "metadata": {
    "collapsed": true
   },
   "outputs": [],
   "source": [
    "resid = ykor - kor_predictions"
   ]
  },
  {
   "cell_type": "code",
   "execution_count": 61,
   "metadata": {},
   "outputs": [
    {
     "data": {
      "image/png": "[encoded data removed]",
      "text/plain": [
       "<matplotlib.figure.Figure at 0x1c269c0048>"
      ]
     },
     "metadata": {},
     "output_type": "display_data"
    }
   ],
   "source": [
    "plt.figure(figsize = [9,6])\n",
    "sns.distplot(resid)\n",
    "plt.xlabel('Residuals', weight = 'bold',size =16)\n",
    "plt.title(\"Distribution of Linear Regression Model Residuals with Korean Baseball Data\",weight = 'bold',size =18)\n",
    "plt.savefig('LASSO_op_OLS_KoreanBB_Resid.png')"
   ]
  }
 ],
 "metadata": {
  "kernelspec": {
   "display_name": "Python [default]",
   "language": "python",
   "name": "python3"
  },
  "language_info": {
   "codemirror_mode": {
    "name": "ipython",
    "version": 3
   },
   "file_extension": ".py",
   "mimetype": "text/x-python",
   "name": "python",
   "nbconvert_exporter": "python",
   "pygments_lexer": "ipython3",
   "version": "3.6.9"
  }
 },
 "nbformat": 4,
 "nbformat_minor": 2
}
